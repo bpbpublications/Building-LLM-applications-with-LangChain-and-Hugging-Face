{
 "cells": [
  {
   "cell_type": "code",
   "execution_count": 1,
   "id": "affd00ea-15d7-4749-9bd8-5e320d00018d",
   "metadata": {},
   "outputs": [
    {
     "name": "stdout",
     "output_type": "stream",
     "text": [
      "Hello World!!!\n",
      "This is the book - Building LLM applications with Langchain and Hugging Face Transformers\n"
     ]
    }
   ],
   "source": [
    "with open(\"scripts\\hello_world.py\",\"r\") as scrpt:\n",
    "    scrpt_content = scrpt.read()\n",
    "\n",
    "exec(scrpt_content)"
   ]
  },
  {
   "cell_type": "code",
   "execution_count": null,
   "id": "032b4861-3a31-41ac-867f-998b1ea4df8c",
   "metadata": {},
   "outputs": [],
   "source": []
  }
 ],
 "metadata": {
  "kernelspec": {
   "display_name": "Python 3 (ipykernel)",
   "language": "python",
   "name": "python3"
  },
  "language_info": {
   "codemirror_mode": {
    "name": "ipython",
    "version": 3
   },
   "file_extension": ".py",
   "mimetype": "text/x-python",
   "name": "python",
   "nbconvert_exporter": "python",
   "pygments_lexer": "ipython3",
   "version": "3.10.6"
  }
 },
 "nbformat": 4,
 "nbformat_minor": 5
}
